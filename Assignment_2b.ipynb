{
 "cells": [
  {
   "cell_type": "code",
   "execution_count": null,
   "id": "8bd7cf05",
   "metadata": {},
   "outputs": [
    {
     "name": "stdout",
     "output_type": "stream",
     "text": [
      "Optimal action for state 422: 1\n",
      "Optimal action for state 64: 2\n",
      "Optimal action for state 8: 0\n",
      "Optimal action for state 386: 1\n",
      "Optimal action for state 108: 0\n"
     ]
    }
   ],
   "source": [
    "import numpy as np\n",
    "if not hasattr(np, 'bool8'):\n",
    "    np.bool8 = np.bool_\n",
    "\n",
    "import gym\n",
    "import numpy as np\n",
    "\n",
    "# --- 1. Set up environment and parameters ---\n",
    "env = gym.make(\"Taxi-v3\")\n",
    "\n",
    "alpha = 0.1\n",
    "gamma = 1.0\n",
    "epsilon = 0.1\n",
    "num_episodes = 10000\n",
    "\n",
    "Q = np.zeros((env.observation_space.n, env.action_space.n))  # Initialize Q-table\n",
    "\n",
    "# --- 2. Train with Q-learning ---\n",
    "for episode in range(num_episodes):\n",
    "    state = env.reset()\n",
    "    if isinstance(state, tuple):  # Fix for new gym API\n",
    "        state, _ = state\n",
    "    done = False\n",
    "\n",
    "    while not done:\n",
    "        # Epsilon-greedy action selection\n",
    "        if np.random.uniform(0, 1) < epsilon:\n",
    "            action = env.action_space.sample()\n",
    "        else:\n",
    "            action = np.argmax(Q[state])\n",
    "\n",
    "        step_result = env.step(action)\n",
    "        if len(step_result) == 5:\n",
    "            next_state, reward, terminated, truncated, info = step_result\n",
    "            done = terminated or truncated\n",
    "        else:\n",
    "            next_state, reward, done, info = step_result\n",
    "\n",
    "        if isinstance(next_state, tuple):  # Fix for new gym API\n",
    "            next_state, _ = next_state\n",
    "\n",
    "        # Q-learning update\n",
    "        best_next_action = np.max(Q[next_state])\n",
    "        Q[state, action] = Q[state, action] + alpha * (reward + gamma * best_next_action - Q[state, action])\n",
    "\n",
    "        state = next_state\n",
    "\n",
    "# --- 3. Greedy policy for answering questions ---\n",
    "def get_optimal_action(state):\n",
    "    return np.argmax(Q[state])\n",
    "\n",
    "# --- 4. Query optimal actions ---\n",
    "states_to_check = [422, 64, 8,386,108]\n",
    "for s in states_to_check:\n",
    "    print(f\"Optimal action for state {s}: {get_optimal_action(s)}\")\n",
    "\n",
    "while True:\n",
    "    try:\n",
    "        s = int(input(\"Enter a state number to find the optimal action (or -1 to exit): \"))\n",
    "        if s == -1:\n",
    "            break\n",
    "        if 0 <= s < env.observation_space.n:\n",
    "            print(f\"Optimal action for state {s}: {get_optimal_action(s)}\")\n",
    "        else:\n",
    "            print(\"Invalid state number. Try again.\")\n",
    "    except ValueError:\n",
    "        print(\"Please enter an integer.\")\n"
   ]
  }
 ],
 "metadata": {
  "kernelspec": {
   "display_name": "base",
   "language": "python",
   "name": "python3"
  },
  "language_info": {
   "codemirror_mode": {
    "name": "ipython",
    "version": 3
   },
   "file_extension": ".py",
   "mimetype": "text/x-python",
   "name": "python",
   "nbconvert_exporter": "python",
   "pygments_lexer": "ipython3",
   "version": "3.12.7"
  }
 },
 "nbformat": 4,
 "nbformat_minor": 5
}
